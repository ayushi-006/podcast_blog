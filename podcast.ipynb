{
 "cells": [
  {
   "cell_type": "code",
   "execution_count": 1,
   "id": "f48dec39",
   "metadata": {},
   "outputs": [
    {
     "name": "stdout",
     "output_type": "stream",
     "text": [
      "Requirement already satisfied: openai in /usr/local/lib/python3.11/dist-packages (1.91.0)\n",
      "Requirement already satisfied: anyio<5,>=3.5.0 in /usr/local/lib/python3.11/dist-packages (from openai) (4.9.0)\n",
      "Requirement already satisfied: distro<2,>=1.7.0 in /usr/local/lib/python3.11/dist-packages (from openai) (1.9.0)\n",
      "Requirement already satisfied: httpx<1,>=0.23.0 in /usr/local/lib/python3.11/dist-packages (from openai) (0.28.1)\n",
      "Requirement already satisfied: jiter<1,>=0.4.0 in /usr/local/lib/python3.11/dist-packages (from openai) (0.10.0)\n",
      "Requirement already satisfied: pydantic<3,>=1.9.0 in /usr/local/lib/python3.11/dist-packages (from openai) (2.11.7)\n",
      "Requirement already satisfied: sniffio in /usr/local/lib/python3.11/dist-packages (from openai) (1.3.1)\n",
      "Requirement already satisfied: tqdm>4 in /usr/local/lib/python3.11/dist-packages (from openai) (4.67.1)\n",
      "Requirement already satisfied: typing-extensions<5,>=4.11 in /usr/local/lib/python3.11/dist-packages (from openai) (4.14.0)\n",
      "Requirement already satisfied: idna>=2.8 in /usr/local/lib/python3.11/dist-packages (from anyio<5,>=3.5.0->openai) (3.10)\n",
      "Requirement already satisfied: certifi in /usr/local/lib/python3.11/dist-packages (from httpx<1,>=0.23.0->openai) (2025.6.15)\n",
      "Requirement already satisfied: httpcore==1.* in /usr/local/lib/python3.11/dist-packages (from httpx<1,>=0.23.0->openai) (1.0.9)\n",
      "Requirement already satisfied: h11>=0.16 in /usr/local/lib/python3.11/dist-packages (from httpcore==1.*->httpx<1,>=0.23.0->openai) (0.16.0)\n",
      "Requirement already satisfied: annotated-types>=0.6.0 in /usr/local/lib/python3.11/dist-packages (from pydantic<3,>=1.9.0->openai) (0.7.0)\n",
      "Requirement already satisfied: pydantic-core==2.33.2 in /usr/local/lib/python3.11/dist-packages (from pydantic<3,>=1.9.0->openai) (2.33.2)\n",
      "Requirement already satisfied: typing-inspection>=0.4.0 in /usr/local/lib/python3.11/dist-packages (from pydantic<3,>=1.9.0->openai) (0.4.1)\n"
     ]
    }
   ],
   "source": [
    "!pip install openai"
   ]
  },
  {
   "cell_type": "code",
   "execution_count": 8,
   "id": "0fc3f7fe",
   "metadata": {},
   "outputs": [
    {
     "name": "stdout",
     "output_type": "stream",
     "text": [
      "Collecting AudioSegment\n",
      "  Downloading audiosegment-0.23.0-py3-none-any.whl.metadata (1.4 kB)\n",
      "Requirement already satisfied: pydub in /usr/local/lib/python3.11/dist-packages (from AudioSegment) (0.25.1)\n",
      "Collecting webrtcvad (from AudioSegment)\n",
      "  Downloading webrtcvad-2.0.10.tar.gz (66 kB)\n",
      "\u001b[2K     \u001b[90m━━━━━━━━━━━━━━━━━━━━━━━━━━━━━━━━━━━━━━━━\u001b[0m \u001b[32m66.2/66.2 kB\u001b[0m \u001b[31m1.3 MB/s\u001b[0m eta \u001b[36m0:00:00\u001b[0ma \u001b[36m0:00:01\u001b[0m\n",
      "\u001b[?25h  Preparing metadata (setup.py) ... \u001b[?25l\u001b[?25hdone\n",
      "Requirement already satisfied: numpy in /usr/local/lib/python3.11/dist-packages (from AudioSegment) (1.26.4)\n",
      "Requirement already satisfied: mkl_fft in /usr/local/lib/python3.11/dist-packages (from numpy->AudioSegment) (1.3.8)\n",
      "Requirement already satisfied: mkl_random in /usr/local/lib/python3.11/dist-packages (from numpy->AudioSegment) (1.2.4)\n",
      "Requirement already satisfied: mkl_umath in /usr/local/lib/python3.11/dist-packages (from numpy->AudioSegment) (0.1.1)\n",
      "Requirement already satisfied: mkl in /usr/local/lib/python3.11/dist-packages (from numpy->AudioSegment) (2025.2.0)\n",
      "Requirement already satisfied: tbb4py in /usr/local/lib/python3.11/dist-packages (from numpy->AudioSegment) (2022.2.0)\n",
      "Requirement already satisfied: mkl-service in /usr/local/lib/python3.11/dist-packages (from numpy->AudioSegment) (2.4.1)\n",
      "Requirement already satisfied: intel-openmp<2026,>=2024 in /usr/local/lib/python3.11/dist-packages (from mkl->numpy->AudioSegment) (2024.2.0)\n",
      "Requirement already satisfied: tbb==2022.* in /usr/local/lib/python3.11/dist-packages (from mkl->numpy->AudioSegment) (2022.2.0)\n",
      "Requirement already satisfied: tcmlib==1.* in /usr/local/lib/python3.11/dist-packages (from tbb==2022.*->mkl->numpy->AudioSegment) (1.4.0)\n",
      "Requirement already satisfied: intel-cmplr-lib-rt in /usr/local/lib/python3.11/dist-packages (from mkl_umath->numpy->AudioSegment) (2024.2.0)\n",
      "Requirement already satisfied: intel-cmplr-lib-ur==2024.2.0 in /usr/local/lib/python3.11/dist-packages (from intel-openmp<2026,>=2024->mkl->numpy->AudioSegment) (2024.2.0)\n",
      "Downloading audiosegment-0.23.0-py3-none-any.whl (34 kB)\n",
      "Building wheels for collected packages: webrtcvad\n",
      "  Building wheel for webrtcvad (setup.py) ... \u001b[?25l\u001b[?25hdone\n",
      "  Created wheel for webrtcvad: filename=webrtcvad-2.0.10-cp311-cp311-linux_x86_64.whl size=73501 sha256=1f437e1dac2d3b04909a811f71069e73215db21b157c1637e8b419d147f788db\n",
      "  Stored in directory: /root/.cache/pip/wheels/94/65/3f/292d0b656be33d1c801831201c74b5f68f41a2ae465ff2ee2f\n",
      "Successfully built webrtcvad\n",
      "Installing collected packages: webrtcvad, AudioSegment\n",
      "Successfully installed AudioSegment-0.23.0 webrtcvad-2.0.10\n"
     ]
    }
   ],
   "source": [
    "!pip install AudioSegment\n"
   ]
  },
  {
   "cell_type": "code",
   "execution_count": 9,
   "id": "a9771487",
   "metadata": {},
   "outputs": [],
   "source": [
    "import os\n"
   ]
  },
  {
   "cell_type": "code",
   "execution_count": 10,
   "id": "41170210",
   "metadata": {},
   "outputs": [
    {
     "name": "stdout",
     "output_type": "stream",
     "text": [
      "Compressed size: 5.5MB\n",
      "/tmp/ultra_compressed.mp3\n"
     ]
    }
   ],
   "source": [
    "def compress_video_for_api(input_path):\n",
    "    # Extract and heavily compress audio\n",
    "    audio = AudioSegment.from_file(input_path)\n",
    "    \n",
    "    # Aggressive compression to fit 25MB limit\n",
    "    audio = audio.set_frame_rate(8000)  # Lower sample rate\n",
    "    audio = audio.set_channels(1)       # Mono\n",
    "    \n",
    "    compressed_path = \"/tmp/ultra_compressed.mp3\"\n",
    "    audio.export(compressed_path, \n",
    "                format=\"mp3\", \n",
    "                bitrate=\"32k\",  # Very low bitrate\n",
    "                parameters=[\"-ac\", \"1\"])  # Force mono\n",
    "    \n",
    "    size_mb = os.path.getsize(compressed_path) / (1024 * 1024)\n",
    "    print(f\"Compressed size: {size_mb:.1f}MB\")\n",
    "    \n",
    "    if size_mb <= 25:\n",
    "        return compressed_path\n",
    "    else:\n",
    "        print(\"Still too large even after compression\")\n",
    "        return None\n",
    "    \n",
    "video = compress_video_for_api(\"/kaggle/input/vaibhavee/2025-08-07 18-02-57.mkv\")\n",
    "print(video)\n",
    "    "
   ]
  },
  {
   "cell_type": "code",
   "execution_count": null,
   "id": "4309ea58",
   "metadata": {},
   "outputs": [
    {
     "name": "stdout",
     "output_type": "stream",
     "text": [
      "5.533032417297363\n",
      "/tmp/ultra_compressed.mp3\n",
      "Good evening, Babavi. I am your host today. My name is Ayushi Dixit, and today we'll let everyone know about your journey to know how it is impressive and inspiring to all of us. So can we start with your brief introduction, your background, and what you currently do? Yeah. Hello, Ayushi. So I am Babavi. I am from Sitamarhi, Bihar, and I am pursuing this BS in Electronic Systems. So I started this degree in 7th, and currently I am in the first term of degree level. First term of degree level, right? Yeah. Yeah. So are you doing this degree right after your 12th? Yes. So how did you came to know about this degree and what were the initial steps when you came to know and decided to join? Yeah. So I came to know through some YouTube channels about this degree, and then I, at that time I was stressed because of the, like how to move forward after that, you know. So then I decided to take this degree. Before joining this degree, let's rewind a little bit. How was your academic life or professional life, we may say? What was your streams? What streams did you opt for? And did you have your interest in electronics from way behind before joining this degree? Yeah. All that. Yeah. So I have done my schooling from my hometown only, Sitamarhi. So till 12th, I was studying there only. Yeah, I had interest, but I was not pursuing it. Okay. So you have previous interest in electronics, right? Yeah. I have not done anything in that particular field. So just after 12th, you, we get options for different colleges, offline colleges. How come you opted for this degree rather than going for some offline colleges? Yeah. So I was preparing for JEE, but I was, I just qualified the JEE means, but I didn't have the good percentile to get a good college apart from this. So at that time, yes, I can say that it was the only option, but yeah. As IATM offers two degree, data science and electronic systems, how did you differentiate between that you have to take electronic systems and the data science ones? Because I had interest in electronic systems, that is why. Okay. Okay, that's the main reason. So that you have been in the degree for quite some time and you are in degree level right now. What is your take on how the courses are structured, how the plans are made, how in each term it is being taken forward through live sessions, through TA session? What is your take on how the program is structured all over? I think it's really good because we are studying from the IIT professors who are like teaching the IIT professors we are getting, who are speaking in high ethnic languages, and also the English speakers. Your voice is somewhat not audible. Okay, is it better now? Yeah, it's better now. Yeah. Okay, fine. So if we talk about like you told that the online sessions and the videos are recorded, what is your take on the TA sessions and the instructor sessions that happen? As we go through the whole course through the week, and then we have some doubts, we go to the sessions, are those doubts solved? Or how are these things happening? Yeah, these instructor sessions are really helpful for course preparation and also for doubt solving. So if you have any doubt in the lectures, you can just refer to the instructors. Regarding TA session, actually, I'm also a TA for one of the courses. So yeah, it's really helpful to have a TA session because sometimes we are not that friendly to instructors and all, but we can share it to TA's. So yeah. Wow. So in the whole journey, like after doing 12th, we have a very, very base knowledge of 12th, right? When we move forward with some degree, bachelor's degree, and some what, we get to know new things, we get to learn new things which are not of our field, we get to advance our thinking. So what was that some point in a degree that you came to know that, yeah, now you are learning something rather than going for an offline college. Instead of that, yeah, in this online college also, you are getting to learn things, your brain is developing, yeah, somewhat like that. The new subjects which you came to know, yeah. Yes, so I will start from like, I was very introvert before this degree. But since even it is online, but we have many events and all, which were conducted in online and also paradox. So I have been part of the core team of many event organizing team. Also, as I mentioned, I am a TA, so that also helped me to be more extrovert, you can say. Wonderful. So are there some subjects which really challenge you to think or have really challenged you in your life, like their vigor is somewhat hard from your level so that you are, you know, that you are pushing yourself somewhat to learn things. Are there some subjects or courses? In what sense are you asking? Like there are difficult subjects as well as easy subjects, right? Yeah. We have difficult subjects. So while learning those subjects, we come to know that, yeah, this subject is somewhat challenging. We have to dedicate this much time to this subject, right? So are there some experience with you with those subjects? Yeah, so there is one course in diploma level known as control engineering. So it was really difficult course for like, not only me, but also my classmates and batchmates. So yeah, so even in that course, the instructor session helped a lot because there he was solving many problems. So it was really good to practice with her. So it helped a lot. Wonderful. So as we mentioned about the instructor sessions and TA sessions, how are they taken forward? Like weekly they are being conducted or they are conducted on weekends. How are those conducted? Since I was in the first batch of AS, so we don't have any TA sessions because there were no TA's. But instructor sessions were like thrice a week or something like that. Nice. So being this degree as an electronics part, the first thing that comes to our mind is something we have in our hand and we are working on some appliance or somewhat like that or practicals we can say. How are the practicals being conducted and how it is bridging the gap between theory Yeah, so we have labs as well. So it has two components online and offline. So for online labs, you have to do the experiment at our home and then record the video and submit it. And for offline labs, we have to come to campus and then perform the experiment here only. And then TA's or instructor will evaluate everything. So yeah, it is very good in that way. So we have both the experience, both practical and theoretical. Okay, so in your personal life, how do you conduct the sessions? Do you have the equipment at your home? Do TA's or do the course instructors themselves? How is evaluation done and how are you conducting at your home? About labs? Practicals, yeah. Yeah, so we have a kit which we use for power supply and all and other which was referred by our professors. So that we have to purchase and then we can, we have the reference to refer to for the experiments. And then we have to just conduct the experiment. And if we have any doubt, we can just ask in the instructor session for the lab. So we have instructor sessions for labs as well. Okay. So do you have had any experience with hands-on projects which you have done till now? Yeah, so we had one project in our diploma level. So that we had to do before entering to degree level. So that, yeah, it was a graphic equalizer. How did you work on it and how did our course team as well as professors help you to go through the whole? Yeah, so each team was assigned with one professor and then we have to do the GMIT. Like in initial phase, we have to do the GMIT and then discuss about the project to how to proceed. And in the later weeks, we came to on campus and then work on for around 14 to 15 days. So how did that project help you to gain deeper insight or the practical insights of that subject through that? Yeah, because in that project, we were directly working under a professor. So it obviously helped a lot in every aspect. Because in other courses, we had a professor, but we were not able to interact with them that often and all. So that is why this was a very good opportunity to interact with a professor that often. So can you describe any of your lab projects that you have conducted at on campus? You have your experience, whether it be a single project or a group project for that. In the practical lab session which is happening in offline on campus, how do they occur? Like professors come there and they tell you or their instructors that they help you in the project. How are offline lab sessions conducted? Yeah, so in the starting, the professor will come and explain what we need to do and what we have to do. And then if we have any doubt, we can ask to any instructor or TAs. TAs are also there in the lab, so we can ask them also. So yeah, so in the foundation level, we have to make a counter. So with the help of different ICs and all, we have to make a counter. Then in diploma level in analog project, we have to make an audio amplifier. So that was also very interesting to me. And then in the diploma lab, we have to do the project, which I already mentioned. Okay, nice. So being in this program for a long time, do you feel that this program is well aligned with the technical know-how of the industry? And is this in phase with industry level equipment or technology? Yes, yeah. Yeah, as I mentioned, we have done project also. So yeah, obviously also from this term, they are sending us to do internship in companies also for our diploma project. So it will get credit in our degree. So that is also a big opportunity. We can just work on a company and then learn things and then come back to the course. And your credit will also count. So that is a very good thing. Yeah, so are there any industry level teachers or professors coming from outside to teach you? Yes, I remember there was one professor in analog. I think he has a company named Blue Armor or something. So his company also make a like audio Bluetooth device. So he teaches about that device. He kind of paired that device and explain each part how it works and all. So it was a very good practical experience. Wonderful. So in this program, apart from the all the technical know-how, how have you approached this program? Like you said, you were a bit of introvert, but being in the flow, you have grasped that level of, and now you are being a TA also. So how has your approach, how have you approached to problem solving, practical insights, all these things being in the program? Yeah, so as I mentioned, I was very introverted first, but then I started with a few online events. So I was in the organizing team of a few online events. And then I, in Paradox 2024, I was in the organizing team of an offline event known as RoboTalker. Then through these events and all, I got this confidence. Wonderful. So have you applied your learning to some real-world projects or are you doing, you said you are doing your internship. How did you land in this internship? You're asking about the TSA? Yeah. Yes. So we, all of us, I think it is some criteria of 8.5 or 8 CGP. So if you have that much CGP, you will get a mail regarding this TSA and then they'll take the interview and then they can confirm if you can join. Have you done any other internship other than TAship? Yeah, I've been doing one internship in Nirmal, which is an incubation center in IIT Mali. Can you please brief on what is that internship and how are you using your skills there? So basically that internship, I was in like research and development. So when I was on campus for this TAship, I got this opportunity. Okay. So is it in align with your course, like electronic systems? Are you working with that field only? Not really. It is mostly about HR roles. Okay, nice. You are in a campus right now. So how do you think is campus affecting you, your work system? Like people in this degree, right, what something comes to our mind is that it is an online setup and we work at home. But you being there at campus, how does that affect you and your studies? Yes, like when you are at home, you'll feel bored and like you can sometimes you can feel depressed also. So here when you come, you have many friends and also you can study and play together. So it's really nice to be on campus. Also, other than this TAship, I'm also doing one on campus course. So for that also, I have to be on campus. Yeah. Can you please tell me about what is that course and how you have approached it? Like what are the criteria to be there? Yeah. So if you have a CGPA more than 80 and you are in the degree level, then you can just apply for the course and if professor and all approve, then you can do that course. So I'm doing computer organization by Janki Raman. Okay. Wonderful. Nice to hear. Have you opted for a fee waiver? Yes. Can you please brief on how did you get the fee waiver and how is it helping you currently to be in this degree? And like you are achieving your dreams, being in IIT in Research Park, being a TA, doing on campus courses. How do you think that fee waiver has really helped you transform your life from there to here? Yeah. So like I'm not the only child of my parents. So it was really difficult to manage all the finances because my sister and brother are also there. So it was like if I have not gotten this waiver, then it might not be possible to pursue this. So that was also a really great thing to have. So I got to know about that YouTube channel only that we can get the fee waiver also. So it was really great. Okay. Wonderful. So has this program influenced you? Also, after my foundation, I got scholarship also. Please tell us more about how did you get the scholarship? So as I was already taking this fee waiver, I got that information that I can apply for scholarship. Then I just applied and it got approved. So I got a scholarship amount in my student wallet and then I just used it for the courses. So how is this program aligned with your future goals or how is it building your direction towards your career? Yeah, it is like, it was really interesting to pursue this electronic on like both hardware and the theoretical part of this. To be honest, I'm not really sure where I'll go with this thing, but it was really great experience and it is very good experience to be here. As you're already being in campus, do you have any interaction with any professor or course instructors? Yeah. So yeah, I have interacted with almost every professor which is there in ES. Yeah. And through some events or maybe on... So is there any some thing that you really noticed or not noticed, but some of your insights that you have met that professor and you have, that has really had a keen impact on you like a chat or some insightful discussion with some professors? Yeah. So I have noticed that this professor like does not like differentiate us with like we take people, they'll treat us like that only. And they like, if you have any doubt and all, they'll just help us to resolve it and all. So yeah, it was a really good experience to interact with them. If you could name any professor like that, like one interaction with him was really insightful. Yeah. So Janki Ramanathan was my diploma level project guide. So he was guiding us throughout our project. So it was always very good to interact with him. Okay. So yeah, nice. I would like to know like you are doing B.S. degree currently, what are your future programs about doing masters or some certification directly on job? Yeah, I'll try to mostly hop in like jobs and, but I'm not sure maybe I'll, that's, I'm really not sure about it, so. Okay. So we may say if you get a job, will you go with job thing, right? Yes. Yes. Mostly I'll go with it. As I mentioned that, yeah, I also have an elder child at my home, so it's kind of her responsibility also. Yeah, exactly, exactly. So how has IIT brand name impacted your growth? You are now here with the TA ship and all other responsibilities, but to grow your network there, how is IIT helping you in that? Yeah, so the amount of exposure we got there is like, you can't compare it with some other thing. So exposure in every aspect, like you can easily interact with IIT professors and your peers are also very good. Our hostel mates are also doing really good in their, in their career and all. So yeah, it is really good to be here instead of being somewhere else. So if you have this option, then you can obviously proceed. Nice. So you have been to research class, right? Sorry, I told that I, I've been working in IIT, so it is not under research class, it's in IIT campus. But have you been to research class? No. You might have heard about research class, right? What do you think, what is happening there? How it is helping the younger or the new generation to build new things or how new technologies are being built and new ideas are being taken? How, how is that helping the, means I guess there are people from even our degree also, who are working there, right? Yeah, there are many people from our degree who are working there. So it is really good place. And also there are many startups of professors who are working at IIT. So they take people from this degree also. Our degree. Yes. So yeah, it is really great to have it just beside campus. Okay, wonderful. For someone like you who was hesitating to take this degree in initial steps, but you took the courage to step forward. For someone like you, how, what advice would you like to give to someone who is doing this? Yeah, so earlier even I was not sure should I take this online degree and all because like you will be spending all the time in your home and all. But that is not the case. If you're doing good, you can get opportunity to come on campus or do some internship somewhere else. So it is not the case. It is not like think about that or focus about that. Yeah, but with respect to the studies and all, how do you think that it is maintaining the power with some offline degree? I would say it is better than that because the content is really, really good. If you're studying with your whole focus and all, you will do really good here. Okay, wonderful. Because I know, okay. Yeah, you can say, you can say. Yeah, so I know many people are doing degrees from private colleges. But the thing is the content is not good there. So it's better to study from an IIT profession. The content is very good here. And also the support you get from instructor and all, you will not get it somewhere else. So that is why it's better to pursue it here. Nice. So you said you have been to Paradox and also attended the event, organized the events, right? How was your experience in Paradox organizing the events, meeting people, networking with them? How was your experience? Yeah, so it was the first fest I attended. So it was really good experience to meet all the friends who were like online friends. So when you're meeting them in person, it was really great. And then also that thing when I was in the part of the organizing team, which helped me to like, in all the way like, I get to interact with many good industry level people, because they were chief guest and all. And then also I got the confidence that I can do this a lot. So it was a really great experience. Also, apart from that, we had very like, it was very fun to be here at Paradox. So yeah, overall experience was really good. Wonderful. So you are the TA of which subject? So I am TA for Maths and Electronics. Yes. Okay, wonderful. So that brings us to the end of this conversation. Thank you for being here. Yeah, thank you for having me. I'll stop the recording.\n",
      "\n"
     ]
    }
   ],
   "source": [
    "import openai\n",
    "from pydub import AudioSegment\n",
    "import os\n",
    "\n",
    "# Initialize client\n",
    "from kaggle_secrets import UserSecretsClient\n",
    "user_secrets = openai.util.UserSecrets()\n",
    "api_key = user_secrets.get_secret(\"OPENAI_API_KEY\")\n",
    "client = openai.OpenAI(api_key=api_key)\n",
    "\n",
    "# file_path = \"/kaggle/input/vaibhavee/2025-08-07 18-02-57.mkv\"\n",
    "\n",
    "def transcribe_audio_safe(file_path):\n",
    "    try:\n",
    "        \n",
    "        if not os.path.exists(file_path):\n",
    "            print(f\"File not found: {file_path}\")\n",
    "            return None\n",
    "        \n",
    "        # Check file size and compress if needed\n",
    "        file_size = os.path.getsize(file_path) / (1024 * 1024)\n",
    "        print(file_size)\n",
    "        print(file_path)\n",
    "                \n",
    "        # Transcribe with proper file handling\n",
    "        with open(file_path, \"rb\") as audio_file:\n",
    "            transcription = client.audio.transcriptions.create(\n",
    "                model=\"whisper-1\",\n",
    "                file=audio_file,\n",
    "                response_format=\"text\"\n",
    "            )\n",
    "        \n",
    "        #save transcription in kaggle working directory\n",
    "        with open(\"/kaggle/working/transcription_result.txt\", \"w\", encoding=\"utf-8\") as f:\n",
    "            f.write(transcription)\n",
    "        # return transcription\n",
    "        \n",
    "    except Exception as e:\n",
    "        print(f\"Error during transcription: {e}\")\n",
    "        return None\n",
    "\n",
    "# Usage\n",
    "file_path = \"/kaggle/input/vaibhavee/2025-08-07 18-02-57.mkv\"\n",
    "result = transcribe_audio_safe(\"/tmp/ultra_compressed.mp3\")\n",
    "\n",
    "print(result)"
   ]
  },
  {
   "cell_type": "code",
   "execution_count": null,
   "id": "96fc45f6",
   "metadata": {},
   "outputs": [
    {
     "name": "stdout",
     "output_type": "stream",
     "text": [
      "📝 Transcription length: 19699 characters\n",
      "Attempt 1 of 3\n",
      "blog generated\n"
     ]
    },
    {
     "data": {
      "text/markdown": [
       "**Navigating the World of Electronics: Babavi's Journey through a BS Degree Program**\n",
       "\n",
       "In the quaint town of Sitamarhi, Bihar, a young student named Babavi sat in front of her computer, her eyes glued to a YouTube channel that could potentially define her future. Like many students at the crossroads of high school completion and college, Babavi was filled with uncertainty about the path she should take. But one thing was clear—her interest in electronics was not just a fleeting fancy but a genuine passion she wanted to pursue further.\n",
       "\n",
       "Fast forward to the present, Babavi is now a proud student pursuing a Bachelor of Science in Electronic Systems, a program filled with both challenges and opportunities. Her journey through this degree is not just about academic growth; it is a story of transformation and resilience.\n",
       "\n",
       "Babavi's initial interest in electronics was sparked during her schooling in Sitamarhi. Although she had qualified for JEE Mains, her percentile wasn’t enough to secure a seat in the top-tier engineering colleges. When faced with limited options, Babavi chose an online degree in Electronic Systems offered by a prestigious institution known for its innovative programs in data science and electronics.\n",
       "\n",
       "\"The program is structured really well,\" Babavi shares, her voice brimming with enthusiasm. \"We are studying from professors who are experts in their fields. The live sessions, TA sessions, and recorded videos make learning accessible and comprehensive.\"\n",
       "\n",
       "One of the most enlightening aspects of the program has been the opportunity to interact with professors and teaching assistants. Babavi recalls how instructor sessions played a crucial role in overcoming complex subjects like control engineering. \"These sessions are invaluable for course preparation and doubt-solving,\" she adds. As a teaching assistant herself, Babavi finds joy in helping fellow students navigate through their academic challenges.\n",
       "\n",
       "Despite the online setup, Babavi has found ways to engage and grow beyond the confines of her screen. Participating in online events and being part of the organizing team for Paradox 2024 helped her shed her introverted shell. \"Being part of the core team for event organizing taught me leadership skills and boosted my confidence,\" she reflects.\n",
       "\n",
       "Practical hands-on projects form the core of Babavi's learning experience. She fondly remembers working under a professor on a project to build a graphic equalizer. \"Working directly with a professor provided a deeper insight into practical applications,\" she notes. Such projects are not merely academic exercises; they are gateways to understanding real-world applications and industry-aligned skills.\n",
       "\n",
       "Despite the challenges, Babavi's journey is also marked by financial support that made her education possible. \"I am not the only child in my family, so managing finances was tough,\" she explains. Thanks to a fee waiver she discovered through the same YouTube channel that inspired her path, Babavi could afford her education without burdening her family. Additionally, she received a scholarship after completing her foundation level, which eased her financial constraints further.\n",
       "\n",
       "The program's alignment with industry standards is another highlight. \"From this term, they are sending us for internships that count towards our degree credits,\" Babavi mentions excitedly. Real-world exposure through internships and projects is invaluable for students aspiring to enter the workforce.\n",
       "\n",
       "Babavi's interactions with professors have left a lasting impact on her. She speaks highly of Janki Ramanathan, her diploma-level project guide, whose mentorship enriched her learning experience. \"The professors do not differentiate us from their regular students,\" she remarks, emphasizing the inclusive nature of the program.\n",
       "\n",
       "As Babavi looks towards the future, she remains open to various career paths. Whether it's hopping into a job or pursuing further studies, one thing is certain—her degree has equipped her with skills and confidence to tackle whatever comes next.\n",
       "\n",
       "For students like Babavi who are contemplating an online degree in electronics, she offers this advice: \"Don't be deterred by the online format. The content is robust, and if you study with focus, you'll do exceptionally well.\" Her story is a testament to how determination, coupled with the right opportunities, can lead to success.\n",
       "\n",
       "Babavi’s journey is more than just an academic pursuit; it’s an inspiring tale of self-discovery and perseverance—a reminder that sometimes the unconventional path can lead to extraordinary destinations."
      ],
      "text/plain": [
       "<IPython.core.display.Markdown object>"
      ]
     },
     "metadata": {},
     "output_type": "display_data"
    },
    {
     "name": "stdout",
     "output_type": "stream",
     "text": [
      "Blog post generated\n"
     ]
    }
   ],
   "source": [
    "# text to blog generation\n",
    "import openai\n",
    "from IPython.display import display, Markdown\n",
    "import os\n",
    "# Initialize client\n",
    "\n",
    "def generate_blog_from_text(transcription, max_retries=3):\n",
    "    \n",
    "    prompt = f\"\"\"\n",
    "    You are a professional blog writer specializing in educational content. Transform the following transcription into an engaging, well-structured 700 words blog post about BS DEGREE ELECTRONICS PROGRAMS. \n",
    "    Ensure the blog is engaging, creative, informative about the ELECTRONICS PROGRAM, and easy to read. Write in a single, coherent narrative like a story. highlight fee waiver information if any. \n",
    "    dont use the word \"podcast\" in the blog. \n",
    "    Include practical advice and insights for students\n",
    "    dont mention any private instituton names.\n",
    "    Include relevant quotes from the discussion\n",
    "    mention the incidents of students meeting with professsors and how it helped them.\n",
    "    \n",
    "    Transcription:\n",
    "    {transcription}\n",
    "    \n",
    "    Create an inspiring 700-word blog post:\n",
    "    \"\"\"\n",
    "    \n",
    "    for attempt in range(max_retries):\n",
    "        try:\n",
    "            print(f\"Attempt {attempt + 1} of {max_retries}\")\n",
    "            response = client.chat.completions.create(\n",
    "                model=\"gpt-4o\",\n",
    "                messages=[\n",
    "                    {\"role\": \"system\", \"content\": \"You are an expert blog writer who creates engaging educational content from transcriptions. Focus on storytelling and practical value for students.\"},\n",
    "                    {\"role\": \"user\", \"content\": prompt}                \n",
    "                ],  \n",
    "                max_tokens=2000,\n",
    "                temperature=0.7,\n",
    "                top_p=1,\n",
    "                n=1,\n",
    "                # stop=None,\n",
    "                frequency_penalty=0.1,\n",
    "                presence_penalty=0.1\n",
    "            )\n",
    "            blog_content = response.choices[0].message.content\n",
    "            print(\"blog generated\")\n",
    "            return blog_content\n",
    "            \n",
    "           \n",
    "        except openai.RateLimitError:\n",
    "            print(\"Rate limit exceeded. Retrying...\")\n",
    "            continue\n",
    "    return None\n",
    "# Read transcription from file\n",
    "with open(\"/kaggle/working/transcription_result.txt\", \"r\", encoding=\"utf-8\") as f:\n",
    "    transcription = f.read()\n",
    "    \n",
    "print(f\" Transcription length: {len(transcription)} characters\")\n",
    "   \n",
    "# Generate blog post    \n",
    "blog_post = generate_blog_from_text(transcription)\n",
    "\n",
    "# Display blog post\n",
    "display(Markdown(blog_post))\n",
    "\n",
    "# save blog in kaggle working directory\n",
    "with open(\"/kaggle/working/generated_blog_post.md\", \"w\", encoding=\"utf-8\") as f:\n",
    "    f.write(blog_post)  \n",
    "    \n",
    "print(\"Blog post generated\")\n",
    "    \n",
    "\n",
    "\n",
    "\n",
    "\n"
   ]
  },
  {
   "cell_type": "code",
   "execution_count": null,
   "id": "496a8d7e",
   "metadata": {},
   "outputs": [],
   "source": []
  }
 ],
 "metadata": {
  "kernelspec": {
   "display_name": "Python 3 (ipykernel)",
   "language": "python",
   "name": "python3"
  }
 },
 "nbformat": 4,
 "nbformat_minor": 5
}
